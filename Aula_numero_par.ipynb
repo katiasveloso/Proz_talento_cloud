{
  "nbformat": 4,
  "nbformat_minor": 0,
  "metadata": {
    "colab": {
      "provenance": [],
      "authorship_tag": "ABX9TyMSSFqGDMDVHnGcgskqdxCD",
      "include_colab_link": true
    },
    "kernelspec": {
      "name": "python3",
      "display_name": "Python 3"
    },
    "language_info": {
      "name": "python"
    }
  },
  "cells": [
    {
      "cell_type": "markdown",
      "metadata": {
        "id": "view-in-github",
        "colab_type": "text"
      },
      "source": [
        "<a href=\"https://colab.research.google.com/github/katiasveloso/Proz_talento_cloud/blob/main/Aula_numero_par.ipynb\" target=\"_parent\"><img src=\"https://colab.research.google.com/assets/colab-badge.svg\" alt=\"Open In Colab\"/></a>"
      ]
    },
    {
      "cell_type": "code",
      "execution_count": 3,
      "metadata": {
        "colab": {
          "base_uri": "https://localhost:8080/"
        },
        "collapsed": true,
        "id": "ml5gOGzVNoKy",
        "outputId": "87692191-eb05-48d0-a51b-86449365ebb7"
      },
      "outputs": [
        {
          "name": "stdout",
          "output_type": "stream",
          "text": [
            "5\n",
            "O numero precisa ser par\n",
            "k\n",
            "Você digitou informação incorreta, por favor digite número par\n",
            "2\n"
          ]
        }
      ],
      "source": [
        "def mostrarNumero():\n",
        "  numero_valido = False\n",
        "  while(numero_valido == False):\n",
        "    try:\n",
        "      num = int(input())\n",
        "      if(num % 2 == 0):\n",
        "         numero_valido = True\n",
        "      else:\n",
        "        print(\"O numero precisa ser par\")\n",
        "\n",
        "    except:\n",
        "      print(\"Você digitou informação incorreta, por favor digite número par\")\n",
        "mostrarNumero()\n",
        ""
      ]
    }
  ]
}