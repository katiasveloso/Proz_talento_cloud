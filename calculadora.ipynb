{
  "nbformat": 4,
  "nbformat_minor": 0,
  "metadata": {
    "colab": {
      "provenance": [],
      "authorship_tag": "ABX9TyN1t2XsuuXo+uF81dX7ERou",
      "include_colab_link": true
    },
    "kernelspec": {
      "name": "python3",
      "display_name": "Python 3"
    },
    "language_info": {
      "name": "python"
    }
  },
  "cells": [
    {
      "cell_type": "markdown",
      "metadata": {
        "id": "view-in-github",
        "colab_type": "text"
      },
      "source": [
        "<a href=\"https://colab.research.google.com/github/katiasveloso/Proz_talento_cloud/blob/main/calculadora.ipynb\" target=\"_parent\"><img src=\"https://colab.research.google.com/assets/colab-badge.svg\" alt=\"Open In Colab\"/></a>"
      ]
    },
    {
      "cell_type": "code",
      "execution_count": null,
      "metadata": {
        "id": "-i3qkg8AukLE"
      },
      "outputs": [],
      "source": []
    },
    {
      "cell_type": "markdown",
      "source": [
        "**Calculadora**\n",
        "\n",
        "Faça uma função calculadora de dois números com três parâmetros: os dois primeiros serão os números da operação e o terceiro será a entrada que definirá a operação a ser executada. Considera a seguinte definição:\n",
        "1. Soma\n",
        "2. Subtração\n",
        "3. Multiplicação\n",
        "4. Divisão\n",
        "\n",
        "Caso seja inserido um número de operação que não exista, o resultado deverá ser 0.\n"
      ],
      "metadata": {
        "id": "yGBzlvhWulR9"
      }
    },
    {
      "cell_type": "code",
      "source": [
        "def calculadora (n1,n2,operacao):\n",
        "\n",
        "    if operacao == 1:\n",
        "        return n1 + n2\n",
        "\n",
        "    elif operacao == 2:\n",
        "          return n1 - n2\n",
        "\n",
        "    elif operacao == 3:\n",
        "          return n1 * n2\n",
        "\n",
        "    elif operacao == 4:\n",
        "        if n2 != 0:\n",
        "            return n1 / n2\n",
        "        else:\n",
        "            return \"Erro: Divisão por zero\"\n",
        "    else:\n",
        "        return 0\n",
        "# Exemplos de uso\n",
        "print(calculadora(8, 5, 1))  # Soma: 15\n",
        "print(calculadora(15, 5, 2))  # Subtração: 5\n",
        "print(calculadora(12, 2, 3))  # Multiplicação: 50\n",
        "print(calculadora(9, 3, 4))  # Divisão: 2.0\n",
        "print(calculadora(10, 0, 4))  # Erro: Divisão por zero\n",
        "print(calculadora(20, 5, 5))  # Operação inválida: 0\n"
      ],
      "metadata": {
        "colab": {
          "base_uri": "https://localhost:8080/"
        },
        "id": "kAgntWfpus_F",
        "outputId": "e50f2ffb-d0c5-47b7-d872-549f20bc0178"
      },
      "execution_count": 11,
      "outputs": [
        {
          "output_type": "stream",
          "name": "stdout",
          "text": [
            "13\n",
            "10\n",
            "24\n",
            "3.0\n",
            "Erro: Divisão por zero\n",
            "0\n"
          ]
        }
      ]
    }
  ]
}