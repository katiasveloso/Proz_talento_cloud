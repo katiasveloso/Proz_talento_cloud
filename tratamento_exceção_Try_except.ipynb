{
  "nbformat": 4,
  "nbformat_minor": 0,
  "metadata": {
    "colab": {
      "provenance": [],
      "authorship_tag": "ABX9TyNVKu0MnGJWV2utAyGoxzZv",
      "include_colab_link": true
    },
    "kernelspec": {
      "name": "python3",
      "display_name": "Python 3"
    },
    "language_info": {
      "name": "python"
    }
  },
  "cells": [
    {
      "cell_type": "markdown",
      "metadata": {
        "id": "view-in-github",
        "colab_type": "text"
      },
      "source": [
        "<a href=\"https://colab.research.google.com/github/katiasveloso/Proz_talento_cloud/blob/main/tratamento_exce%C3%A7%C3%A3o_Try_except.ipynb\" target=\"_parent\"><img src=\"https://colab.research.google.com/assets/colab-badge.svg\" alt=\"Open In Colab\"/></a>"
      ]
    },
    {
      "cell_type": "markdown",
      "source": [
        "# Tratamento de  exceção no código Python\n",
        "\n",
        "Desenvolva um programa que recebe do usuário nome completo e ano de nascimento que seja entre 1922 e 2021.\n",
        "A partir dessas informações, o sistema mostrará o nome do usuário e a idade que completou, ou completará, no ano atual (2024).\n",
        "\n",
        "Caso o usuário não digite um número ou apareça um inválido no campo do ano, o sistema informará o erro e continuará perguntando até que um valor correto seja preenchido."
      ],
      "metadata": {
        "id": "AJxHU0yVUCN5"
      }
    },
    {
      "cell_type": "code",
      "source": [],
      "metadata": {
        "id": "iLvGipQWUK34"
      },
      "execution_count": null,
      "outputs": []
    },
    {
      "cell_type": "code",
      "execution_count": null,
      "metadata": {
        "colab": {
          "base_uri": "https://localhost:8080/"
        },
        "outputId": "75d0ad4f-0fde-4c44-c712-8225acaad2ee",
        "id": "Xmsou_U2UN_7"
      },
      "outputs": [
        {
          "output_type": "stream",
          "name": "stdout",
          "text": [
            "Digite seu nome: katia\n",
            "Digite seu ano de nascimento: 1910\n",
            "Ano inválido\n",
            "Digite seu ano de nascimento: df\n",
            "Informação inválida, digite o ano do seu nascimento\n",
            "Digite seu ano de nascimento: 1983\n",
            "katia a idade que completou ou irá completar em 2024 é de 41 anos\n"
          ]
        }
      ],
      "source": [
        "def nascimento():\n",
        "  nome = input(\"Digite seu nome: \")\n",
        "  anoValido = False\n",
        "  while (anoValido == False):\n",
        "    try:\n",
        "      anoNascimento = int(input(\"Digite seu ano de nascimento: \"))\n",
        "      if (anoNascimento >=1922) and (anoNascimento <=2021):\n",
        "        idade = 2024 - anoNascimento\n",
        "        print(f\"{nome} a idade que completou ou irá completar em 2024 é de {idade} anos\")\n",
        "        anoValido = True\n",
        "      else:\n",
        "        print(\"Ano inválido\")\n",
        "    except:\n",
        "      print(\"Informação inválida, digite o ano do seu nascimento\")\n",
        "nascimento()\n"
      ]
    }
  ]
}