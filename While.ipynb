{
  "nbformat": 4,
  "nbformat_minor": 0,
  "metadata": {
    "colab": {
      "provenance": [],
      "authorship_tag": "ABX9TyMbeDVadXDwiNNm7IJG6KRo",
      "include_colab_link": true
    },
    "kernelspec": {
      "name": "python3",
      "display_name": "Python 3"
    },
    "language_info": {
      "name": "python"
    }
  },
  "cells": [
    {
      "cell_type": "markdown",
      "metadata": {
        "id": "view-in-github",
        "colab_type": "text"
      },
      "source": [
        "<a href=\"https://colab.research.google.com/github/katiasveloso/Proz_talento_cloud/blob/main/While.ipynb\" target=\"_parent\"><img src=\"https://colab.research.google.com/assets/colab-badge.svg\" alt=\"Open In Colab\"/></a>"
      ]
    },
    {
      "cell_type": "code",
      "execution_count": 4,
      "metadata": {
        "colab": {
          "base_uri": "https://localhost:8080/"
        },
        "id": "0xrWvXonP1nk",
        "outputId": "2696e519-e769-4403-aab0-84fd5c25b025"
      },
      "outputs": [
        {
          "output_type": "stream",
          "name": "stdout",
          "text": [
            "Digite a primeira nota: 8\n",
            "Digite a segunda nota: 8\n",
            "Digite a terceira nota: 8\n",
            "Digite a quarta nota: 8\n",
            "Você foi aprovado sua nota é: 8.0\n"
          ]
        }
      ],
      "source": [
        "def calcular_nota():\n",
        "   n1 = float(input(\"Digite a primeira nota: \"));\n",
        "   n2 = float(input(\"Digite a segunda nota: \"));\n",
        "   n3 = float(input(\"Digite a terceira nota: \"));\n",
        "   n4 = float(input(\"Digite a quarta nota: \"));\n",
        "   nota = (n1 + n2 + n3 + n4) / 4;\n",
        "   if nota >= 7:\n",
        "      print(f\"Você foi aprovado sua nota é: {nota}\");\n",
        "   elif nota >= 5 and nota < 7:\n",
        "      print(f\"Voce está de recuperação sua nota é: {nota}\")\n",
        "   else:\n",
        "      print(f\"Você está reprovado sua nota é: {nota}\");\n",
        "calcular_nota();\n",
        ""
      ]
    },
    {
      "cell_type": "code",
      "source": [
        "i=0 #onde começa\n",
        "while i<11:  #onde termina\n",
        "    print(i)\n",
        "    i+=1 #de quanto em quanto ele vai incrementar"
      ],
      "metadata": {
        "colab": {
          "base_uri": "https://localhost:8080/"
        },
        "id": "UOspj1_dRaE8",
        "outputId": "cfc35871-f090-4c0f-ba84-047e1c218bd1"
      },
      "execution_count": 5,
      "outputs": [
        {
          "output_type": "stream",
          "name": "stdout",
          "text": [
            "0\n",
            "1\n",
            "2\n",
            "3\n",
            "4\n",
            "5\n",
            "6\n",
            "7\n",
            "8\n",
            "9\n",
            "10\n"
          ]
        }
      ]
    }
  ]
}