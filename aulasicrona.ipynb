{
  "nbformat": 4,
  "nbformat_minor": 0,
  "metadata": {
    "colab": {
      "provenance": [],
      "authorship_tag": "ABX9TyPU0w2W2B8FQkzwsvoNFPgE",
      "include_colab_link": true
    },
    "kernelspec": {
      "name": "python3",
      "display_name": "Python 3"
    },
    "language_info": {
      "name": "python"
    }
  },
  "cells": [
    {
      "cell_type": "markdown",
      "metadata": {
        "id": "view-in-github",
        "colab_type": "text"
      },
      "source": [
        "<a href=\"https://colab.research.google.com/github/katiasveloso/Proz_talento_cloud/blob/main/aulasicrona.ipynb\" target=\"_parent\"><img src=\"https://colab.research.google.com/assets/colab-badge.svg\" alt=\"Open In Colab\"/></a>"
      ]
    },
    {
      "cell_type": "code",
      "execution_count": 4,
      "metadata": {
        "colab": {
          "base_uri": "https://localhost:8080/"
        },
        "id": "RIeAHXqIoIpe",
        "outputId": "7550216c-7d3c-453e-8b32-b17677d6adc1"
      },
      "outputs": [
        {
          "output_type": "stream",
          "name": "stdout",
          "text": [
            "Rega a planta0\n",
            "Rega a planta2\n",
            "Rega a planta4\n"
          ]
        }
      ],
      "source": [
        "for i in range(0,6,2):\n",
        " regar_tomate =str(i)\n",
        " print(\"Regar a planta\" + regar_tomate)"
      ]
    },
    {
      "cell_type": "code",
      "source": [
        "i=0\n",
        "while(i < 6):\n",
        "  regar_tomate = str(i)\n",
        "  print(\"Regra o vetor planta\" + regar_tomate)\n",
        "  i = i+2"
      ],
      "metadata": {
        "colab": {
          "base_uri": "https://localhost:8080/"
        },
        "id": "BIQCh5mbu5_w",
        "outputId": "f5ba5175-2cec-47b4-d8e7-df0f5d23438a"
      },
      "execution_count": 10,
      "outputs": [
        {
          "output_type": "stream",
          "name": "stdout",
          "text": [
            "Regra o vetor planta0\n",
            "Regra o vetor planta2\n",
            "Regra o vetor planta4\n"
          ]
        }
      ]
    },
    {
      "cell_type": "code",
      "source": [
        "\n",
        "for i in range(3,6,1):\n",
        " regar_batata = str(i)\n",
        " print(\"Regar a planta\" + regar_batata)\n",
        "\n"
      ],
      "metadata": {
        "colab": {
          "base_uri": "https://localhost:8080/"
        },
        "id": "dufX053NxBHj",
        "outputId": "135be9bf-4862-4427-e7ac-f2cbdfc25f07"
      },
      "execution_count": 17,
      "outputs": [
        {
          "output_type": "stream",
          "name": "stdout",
          "text": [
            "Regar a planta3\n",
            "Regar a planta4\n",
            "Regar a planta5\n"
          ]
        }
      ]
    },
    {
      "cell_type": "code",
      "source": [
        "\n",
        "i=3\n",
        "while(i < 6):\n",
        "  regar_batata = str(i)\n",
        "  print(\"Regar a planta\" + regar_batata)\n",
        "  i = i+1"
      ],
      "metadata": {
        "colab": {
          "base_uri": "https://localhost:8080/"
        },
        "id": "Wqm9qy0byH-o",
        "outputId": "270203ba-6541-4a2b-e41b-0f95edbffd3f"
      },
      "execution_count": 15,
      "outputs": [
        {
          "output_type": "stream",
          "name": "stdout",
          "text": [
            "Regra a planta3\n",
            "Regra a planta4\n",
            "Regra a planta5\n"
          ]
        }
      ]
    },
    {
      "cell_type": "code",
      "source": [
        "for i in range(6):\n",
        "  regar_planta = str(i)\n",
        "  if(i == 2) or (i == 3):\n",
        "    continue\n",
        "  print(\"Reguar a planta \" + regar_planta)"
      ],
      "metadata": {
        "colab": {
          "base_uri": "https://localhost:8080/"
        },
        "id": "fx9deVSQ1JTE",
        "outputId": "ca23a8d9-bb0f-4289-9818-16e9cf4f9b76"
      },
      "execution_count": 26,
      "outputs": [
        {
          "output_type": "stream",
          "name": "stdout",
          "text": [
            "Reguar a planta 0\n",
            "Reguar a planta 1\n",
            "Reguar a planta 4\n",
            "Reguar a planta 5\n"
          ]
        }
      ]
    },
    {
      "cell_type": "code",
      "source": [
        "for i in range(5,-1,-1):\n",
        " regar_planta =str(i)\n",
        " print(\"Regar a planta\" + regar_planta)"
      ],
      "metadata": {
        "colab": {
          "base_uri": "https://localhost:8080/"
        },
        "id": "pKN1q8o53wd0",
        "outputId": "96c02837-b15b-4cd4-e84c-320c935320a9"
      },
      "execution_count": 33,
      "outputs": [
        {
          "output_type": "stream",
          "name": "stdout",
          "text": [
            "Regar a planta5\n",
            "Regar a planta4\n",
            "Regar a planta3\n",
            "Regar a planta2\n",
            "Regar a planta1\n",
            "Regar a planta0\n"
          ]
        }
      ]
    },
    {
      "cell_type": "code",
      "source": [
        "i=5\n",
        "while(i >= 0):\n",
        "  regar_tomate = str(i)\n",
        "  print(\"Regra o vetor planta\" + regar_tomate)\n",
        "  i = i -1"
      ],
      "metadata": {
        "colab": {
          "base_uri": "https://localhost:8080/"
        },
        "id": "PJjzbrPC4YZB",
        "outputId": "389901c3-997b-46cb-b890-8778bd6639ce"
      },
      "execution_count": 32,
      "outputs": [
        {
          "output_type": "stream",
          "name": "stdout",
          "text": [
            "Regra o vetor planta5\n",
            "Regra o vetor planta4\n",
            "Regra o vetor planta3\n",
            "Regra o vetor planta2\n",
            "Regra o vetor planta1\n",
            "Regra o vetor planta0\n"
          ]
        }
      ]
    },
    {
      "cell_type": "code",
      "source": [
        "def escrever_multiplicacao(num1, num2):\n",
        "  resultado = str(num1 * num2)\n",
        "  frase = str(num1) + \"x\" + str(num2) + \"=\" + resultado\n",
        "  return frase\n",
        "print(escrever_multiplicacao(10,5))"
      ],
      "metadata": {
        "colab": {
          "base_uri": "https://localhost:8080/"
        },
        "id": "YPJ2DhsS6rz3",
        "outputId": "238f5912-0651-4530-86b4-b2df33e4f2e7"
      },
      "execution_count": 37,
      "outputs": [
        {
          "output_type": "stream",
          "name": "stdout",
          "text": [
            "10x5=50\n"
          ]
        }
      ]
    },
    {
      "cell_type": "code",
      "source": [
        "for i in range(1, 11):\n",
        "    frase_atual = escrever_multiplicacao(8, i)\n",
        "    print(frase_atual)"
      ],
      "metadata": {
        "colab": {
          "base_uri": "https://localhost:8080/"
        },
        "id": "sgFw5IfI8Ty4",
        "outputId": "3bc1148d-1cdf-4184-9418-d6337014496c"
      },
      "execution_count": 40,
      "outputs": [
        {
          "output_type": "stream",
          "name": "stdout",
          "text": [
            "8x1=8\n",
            "8x2=16\n",
            "8x3=24\n",
            "8x4=32\n",
            "8x5=40\n",
            "8x6=48\n",
            "8x7=56\n",
            "8x8=64\n",
            "8x9=72\n",
            "8x10=80\n"
          ]
        }
      ]
    },
    {
      "cell_type": "code",
      "source": [
        "def tabuada(numero):\n",
        "    i = 1\n",
        "    while i <= 10:\n",
        "        resultado = numero * i\n",
        "        print(f\"{numero} x {i} = {resultado}\")\n",
        "        i += 1\n",
        "\n",
        "# Exemplo de uso\n",
        "numero = int(input(\"Digite um número para ver a sua tabuada: \"))\n",
        "tabuada(numero)"
      ],
      "metadata": {
        "colab": {
          "base_uri": "https://localhost:8080/"
        },
        "id": "eTDd9Lj48jc0",
        "outputId": "b739a022-7a00-4752-f314-55df2aba4d46"
      },
      "execution_count": 52,
      "outputs": [
        {
          "output_type": "stream",
          "name": "stdout",
          "text": [
            "Digite um número para ver a sua tabuada: 6\n",
            "6 x 1 = 6\n",
            "6 x 2 = 12\n",
            "6 x 3 = 18\n",
            "6 x 4 = 24\n",
            "6 x 5 = 30\n",
            "6 x 6 = 36\n",
            "6 x 7 = 42\n",
            "6 x 8 = 48\n",
            "6 x 9 = 54\n",
            "6 x 10 = 60\n"
          ]
        }
      ]
    }
  ]
}