{
  "nbformat": 4,
  "nbformat_minor": 0,
  "metadata": {
    "colab": {
      "provenance": [],
      "authorship_tag": "ABX9TyO5fwoWFYixZZqo8lDcyQDy",
      "include_colab_link": true
    },
    "kernelspec": {
      "name": "python3",
      "display_name": "Python 3"
    },
    "language_info": {
      "name": "python"
    }
  },
  "cells": [
    {
      "cell_type": "markdown",
      "metadata": {
        "id": "view-in-github",
        "colab_type": "text"
      },
      "source": [
        "<a href=\"https://colab.research.google.com/github/katiasveloso/Proz_talento_cloud/blob/main/LacaoReticao.ipynb\" target=\"_parent\"><img src=\"https://colab.research.google.com/assets/colab-badge.svg\" alt=\"Open In Colab\"/></a>"
      ]
    },
    {
      "cell_type": "markdown",
      "source": [
        "**Introdução à Programação - Desafio Hotel de 20 andares**\n",
        "\n",
        "1 - Precisamos imprimir um número para cada andar de um hotel de 20 andares. Porém, o dono do hotel é supersticioso e optou por não ter um 13ro andar.\n",
        "\n",
        "2 - Escreva um código que imprima todos os números exceto o número 13.\n",
        "Escreva mais dois códigos que resolvam o mesmo problema, mas dessa vez usando os outros dois tipos de laços de repetição aprendidos.\n",
        "\n",
        "3 - Como desafio, imprima eles em ordem decrescente (20, 19, 18...)"
      ],
      "metadata": {
        "id": "WdaFwaRXRmT0"
      }
    },
    {
      "cell_type": "code",
      "source": [
        "# Laço For - impressão de todos números execeto o número 13.\n",
        "\n",
        "for andar in range(1, 21):\n",
        "    if andar != 13:\n",
        "        print(f\"Andar {andar}: {andar}\")\n",
        "\n"
      ],
      "metadata": {
        "colab": {
          "base_uri": "https://localhost:8080/"
        },
        "id": "ifrAwYpJSJxL",
        "outputId": "cd26de4e-bf72-47af-8c5f-5e45bc418e21"
      },
      "execution_count": 2,
      "outputs": [
        {
          "output_type": "stream",
          "name": "stdout",
          "text": [
            "Andar 1: 1\n",
            "Andar 2: 2\n",
            "Andar 3: 3\n",
            "Andar 4: 4\n",
            "Andar 5: 5\n",
            "Andar 6: 6\n",
            "Andar 7: 7\n",
            "Andar 8: 8\n",
            "Andar 9: 9\n",
            "Andar 10: 10\n",
            "Andar 11: 11\n",
            "Andar 12: 12\n",
            "Andar 14: 14\n",
            "Andar 15: 15\n",
            "Andar 16: 16\n",
            "Andar 17: 17\n",
            "Andar 18: 18\n",
            "Andar 19: 19\n",
            "Andar 20: 20\n"
          ]
        }
      ]
    },
    {
      "cell_type": "code",
      "source": [
        "#Laço While - impressão de todos números execeto o número 13.\n",
        "andar = 0\n",
        "\n",
        "while andar <= 20:\n",
        "    if andar != 13:\n",
        "        print(f\"Andar {andar}: {andar}\")\n",
        "    andar += 1"
      ],
      "metadata": {
        "colab": {
          "base_uri": "https://localhost:8080/"
        },
        "id": "VVTJbJOCSif1",
        "outputId": "17f7b152-71d5-4442-89fb-235385e1aacd"
      },
      "execution_count": 4,
      "outputs": [
        {
          "output_type": "stream",
          "name": "stdout",
          "text": [
            "Andar 0: 0\n",
            "Andar 1: 1\n",
            "Andar 2: 2\n",
            "Andar 3: 3\n",
            "Andar 4: 4\n",
            "Andar 5: 5\n",
            "Andar 6: 6\n",
            "Andar 7: 7\n",
            "Andar 8: 8\n",
            "Andar 9: 9\n",
            "Andar 10: 10\n",
            "Andar 11: 11\n",
            "Andar 12: 12\n",
            "Andar 14: 14\n",
            "Andar 15: 15\n",
            "Andar 16: 16\n",
            "Andar 17: 17\n",
            "Andar 18: 18\n",
            "Andar 19: 19\n",
            "Andar 20: 20\n"
          ]
        }
      ]
    },
    {
      "cell_type": "code",
      "source": [
        "#Laço For -impressão dos números descrecente\n",
        "\n",
        "for andar in range(20,0,-1):\n",
        "    if andar != 13:\n",
        "        print(f\"Andar {andar}: {andar}\")\n"
      ],
      "metadata": {
        "colab": {
          "base_uri": "https://localhost:8080/"
        },
        "id": "KWymbHFQTU2Y",
        "outputId": "e247ecbb-f5d8-40e8-8972-cc6f075f88c8"
      },
      "execution_count": 5,
      "outputs": [
        {
          "output_type": "stream",
          "name": "stdout",
          "text": [
            "Andar 20: 20\n",
            "Andar 19: 19\n",
            "Andar 18: 18\n",
            "Andar 17: 17\n",
            "Andar 16: 16\n",
            "Andar 15: 15\n",
            "Andar 14: 14\n",
            "Andar 12: 12\n",
            "Andar 11: 11\n",
            "Andar 10: 10\n",
            "Andar 9: 9\n",
            "Andar 8: 8\n",
            "Andar 7: 7\n",
            "Andar 6: 6\n",
            "Andar 5: 5\n",
            "Andar 4: 4\n",
            "Andar 3: 3\n",
            "Andar 2: 2\n",
            "Andar 1: 1\n"
          ]
        }
      ]
    },
    {
      "cell_type": "code",
      "source": [
        "#Laço While - impressão dos números descrecente\n",
        "andar = 20\n",
        "\n",
        "while andar > 0:\n",
        "    if andar != 13:\n",
        "        print(f\"Andar {andar}: {andar}\")\n",
        "    andar -= 1"
      ],
      "metadata": {
        "colab": {
          "base_uri": "https://localhost:8080/"
        },
        "id": "XbrocNWaTcrx",
        "outputId": "4605652c-e562-4913-dbfb-ed2215454b78"
      },
      "execution_count": 7,
      "outputs": [
        {
          "output_type": "stream",
          "name": "stdout",
          "text": [
            "Andar 20: 20\n",
            "Andar 19: 19\n",
            "Andar 18: 18\n",
            "Andar 17: 17\n",
            "Andar 16: 16\n",
            "Andar 15: 15\n",
            "Andar 14: 14\n",
            "Andar 12: 12\n",
            "Andar 11: 11\n",
            "Andar 10: 10\n",
            "Andar 9: 9\n",
            "Andar 8: 8\n",
            "Andar 7: 7\n",
            "Andar 6: 6\n",
            "Andar 5: 5\n",
            "Andar 4: 4\n",
            "Andar 3: 3\n",
            "Andar 2: 2\n",
            "Andar 1: 1\n"
          ]
        }
      ]
    }
  ]
}