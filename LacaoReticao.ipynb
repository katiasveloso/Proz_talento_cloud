{
  "nbformat": 4,
  "nbformat_minor": 0,
  "metadata": {
    "colab": {
      "provenance": [],
      "authorship_tag": "ABX9TyNdvp9B7C/dKbKacuNesXam",
      "include_colab_link": true
    },
    "kernelspec": {
      "name": "python3",
      "display_name": "Python 3"
    },
    "language_info": {
      "name": "python"
    }
  },
  "cells": [
    {
      "cell_type": "markdown",
      "metadata": {
        "id": "view-in-github",
        "colab_type": "text"
      },
      "source": [
        "<a href=\"https://colab.research.google.com/github/katiasveloso/Proz_talento_cloud/blob/main/LacaoReticao.ipynb\" target=\"_parent\"><img src=\"https://colab.research.google.com/assets/colab-badge.svg\" alt=\"Open In Colab\"/></a>"
      ]
    },
    {
      "cell_type": "code",
      "execution_count": null,
      "metadata": {
        "id": "fTi4xrr26aSW"
      },
      "outputs": [],
      "source": [
        "///Laço For descrecente\n",
        "\n",
        "for andar in range(20,0,-1):\n",
        "    if andar != 13:\n",
        "        print(f\"Andar {andar}: {andar}\")\n",
        "\n",
        "///Laço While descrecente\n",
        "andar = 20\n",
        "\n",
        "while andar > 0:\n",
        "    if andar != 13:\n",
        "        print(f\"Andar {andar}: {andar}\")\n",
        "    andar -= 1"
      ]
    },
    {
      "cell_type": "code",
      "source": [],
      "metadata": {
        "id": "BChgM34pO978"
      },
      "execution_count": null,
      "outputs": []
    }
  ]
}