{
  "nbformat": 4,
  "nbformat_minor": 0,
  "metadata": {
    "colab": {
      "provenance": [],
      "authorship_tag": "ABX9TyNqzwvKvy6Bo3YgD6XsfU7N",
      "include_colab_link": true
    },
    "kernelspec": {
      "name": "python3",
      "display_name": "Python 3"
    },
    "language_info": {
      "name": "python"
    }
  },
  "cells": [
    {
      "cell_type": "markdown",
      "metadata": {
        "id": "view-in-github",
        "colab_type": "text"
      },
      "source": [
        "<a href=\"https://colab.research.google.com/github/katiasveloso/Proz_talento_cloud/blob/main/arrays.ipynb\" target=\"_parent\"><img src=\"https://colab.research.google.com/assets/colab-badge.svg\" alt=\"Open In Colab\"/></a>"
      ]
    },
    {
      "cell_type": "markdown",
      "source": [
        "# **Arrays**\n",
        "\n",
        "Declare dois arrays, cada um com um mínimo de cinco elementos, e imprima eles no terminal usando o comando print(). O primeiro array deve conter os produtos de uma loja da sua escolha (loja de comida, materiais de construção, música, etc). O segundo array deve conter os anos de nascimento de familiares e amigos seus. Lembre-se de usar nomes descritivos para nomear cada variável, e de usar o tipo de dado apropriado para cada lista (strings, booleanos, números inteiros, floats).\n"
      ],
      "metadata": {
        "id": "5Og5cic2whbl"
      }
    },
    {
      "cell_type": "code",
      "source": [
        "Comidas_preferias =  [\"pizza\",\"feijão tropeiro\",\"sanduinche\",\"macarronada\",\"feijoada\"]\n",
        "Anos_familiares = [1952,1978,1948,1983,1984]\n",
        "print(Comidas_preferias,Anos_familiares)"
      ],
      "metadata": {
        "colab": {
          "base_uri": "https://localhost:8080/"
        },
        "id": "v2k4NQErw0Tx",
        "outputId": "e139dc49-6ec0-4ec9-e6ef-8d98d4173b1f"
      },
      "execution_count": null,
      "outputs": [
        {
          "output_type": "stream",
          "name": "stdout",
          "text": [
            "['pizza', 'feijão tropeiro', 'sanduinche', 'macarronada', 'feijoada'] [1952, 1978, 1948, 1983, 1984]\n"
          ]
        }
      ]
    }
  ]
}