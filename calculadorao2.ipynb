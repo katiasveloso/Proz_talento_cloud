{
  "nbformat": 4,
  "nbformat_minor": 0,
  "metadata": {
    "colab": {
      "provenance": [],
      "authorship_tag": "ABX9TyNk/wshwEOLi4BIZvn8Qsko",
      "include_colab_link": true
    },
    "kernelspec": {
      "name": "python3",
      "display_name": "Python 3"
    },
    "language_info": {
      "name": "python"
    }
  },
  "cells": [
    {
      "cell_type": "markdown",
      "metadata": {
        "id": "view-in-github",
        "colab_type": "text"
      },
      "source": [
        "<a href=\"https://colab.research.google.com/github/katiasveloso/Proz_talento_cloud/blob/main/calculadorao2.ipynb\" target=\"_parent\"><img src=\"https://colab.research.google.com/assets/colab-badge.svg\" alt=\"Open In Colab\"/></a>"
      ]
    },
    {
      "cell_type": "markdown",
      "source": [
        "## **Calculadora operações feitas pelo usuário**\n",
        "\n",
        "Faça uma função calculadora que os números e as operações serão feitas pelo usuário. O código deve ficar rodando infinitamente até que o usuário escolha a opção de sair. No início, o programa mostrará a seguinte lista de operações:\n",
        "\n",
        "1: Soma\n",
        "2: Subtração\n",
        "3: Multiplicação\n",
        "4: Divisão\n",
        "0: Sair\n",
        "\n",
        "Digite o número para a operação correspondente e caso o usuário introduza qualquer outro, o sistema deve mostrar a mensagem “Essa opção não existe” e voltar ao menu de opções.\n"
      ],
      "metadata": {
        "id": "8eqkNAvK78rE"
      }
    },
    {
      "cell_type": "code",
      "source": [
        "def calculadora():\n",
        "    while True:\n",
        "        print(\"1: Soma\")\n",
        "        print(\"2: Subtração\")\n",
        "        print(\"3: Multiplicação\")\n",
        "        print(\"4: Divisão\")\n",
        "        print(\"0: Sair\")\n",
        "\n",
        "        opcao = int(input(\"Digite o número para a operação correspondente: \"))\n",
        "\n",
        "        if opcao == 0:\n",
        "            print(\"Saindo da calculadora\")\n",
        "            break\n",
        "        if opcao in [1, 2, 3, 4]:\n",
        "            num1 = float(input(\"Digite o primeiro número: \"))\n",
        "            num2 = float(input(\"Digite o segundo número: \"))\n",
        "        if opcao == 1:\n",
        "            resultado = num1 + num2\n",
        "            print(\"Resultado da soma:\", resultado)\n",
        "        elif opcao == 2:\n",
        "            resultado = num1 - num2\n",
        "            print(\"Resultado da subtração:\", resultado)\n",
        "        elif opcao == 3:\n",
        "            resultado = num1 * num2\n",
        "            print(\"Resultado da multiplicação:\", resultado)\n",
        "        elif opcao == 4:\n",
        "            if num2 == 0:\n",
        "                print(\"Não é possível dividir por zero\")\n",
        "            else:\n",
        "                resultado = num1 / num2\n",
        "                print(\"Resultado da divisão:\", resultado)\n",
        "\n",
        "        else:\n",
        "            print(\"Essa opção não existe\")"
      ],
      "metadata": {
        "id": "Ylmi5dg_Bltz"
      },
      "execution_count": 20,
      "outputs": []
    }
  ]
}