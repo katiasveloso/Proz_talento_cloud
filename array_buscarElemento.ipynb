{
  "nbformat": 4,
  "nbformat_minor": 0,
  "metadata": {
    "colab": {
      "provenance": [],
      "authorship_tag": "ABX9TyOEw93iGJ0FgTtyERw/AwR9",
      "include_colab_link": true
    },
    "kernelspec": {
      "name": "python3",
      "display_name": "Python 3"
    },
    "language_info": {
      "name": "python"
    }
  },
  "cells": [
    {
      "cell_type": "markdown",
      "metadata": {
        "id": "view-in-github",
        "colab_type": "text"
      },
      "source": [
        "<a href=\"https://colab.research.google.com/github/katiasveloso/Proz_talento_cloud/blob/main/array_buscarElemento.ipynb\" target=\"_parent\"><img src=\"https://colab.research.google.com/assets/colab-badge.svg\" alt=\"Open In Colab\"/></a>"
      ]
    },
    {
      "cell_type": "code",
      "execution_count": 19,
      "metadata": {
        "colab": {
          "base_uri": "https://localhost:8080/"
        },
        "id": "lkDN9Fplxe-s",
        "outputId": "1b9a2dc3-3733-4dd0-b8d6-bff9c7a2570c"
      },
      "outputs": [
        {
          "output_type": "stream",
          "name": "stdout",
          "text": [
            "Não achamos o nome:Kátia\n",
            "Não achamos o nome:Kátia\n",
            "Não achamos o nome:Kátia\n",
            "Achamos o nome:Kátia\n"
          ]
        }
      ],
      "source": [
        "def achar_elmento (elem,arr):\n",
        "  achou = False\n",
        "  for i in range(len(arr)):\n",
        "    if arr[i] == elem:\n",
        "      achou = True\n",
        "\n",
        "    if(achou == False):\n",
        "     print(\"Não achamos o nome:\" + elem)\n",
        "  else:\n",
        "    print(\"Achamos o nome:\" + elem)\n",
        "\n",
        "nomes = [\"Leonardo\", \"Renato\", \"Michael\",\"Kátia\"]\n",
        "achar_elmento(\"Kátia\",nomes)\n",
        "\n"
      ]
    },
    {
      "cell_type": "code",
      "source": [
        "def achar_elmento (elem,arr):\n",
        "  achou = False\n",
        "\n",
        "  for i in range(len(arr)):\n",
        "    if arr[i] == elem:\n",
        "      achou = True\n",
        "\n",
        "    if(achou == False):\n",
        "     print(\"Não achamos o nome:\" + elem)\n",
        "  else:\n",
        "    print(\"Achamos o nome:\" + elem)\n",
        "\n",
        "nomes = [\"Leonardo\", \"Renato\", \"Michael\",\"Kátia\"]\n",
        "buscar =input(\"Digite o nome que deseja buscar:\")\n",
        "achar_elmento(nomes,nomes)\n",
        "\n"
      ],
      "metadata": {
        "id": "Pt-d6eNO0532"
      },
      "execution_count": null,
      "outputs": []
    },
    {
      "cell_type": "code",
      "source": [
        "def manipular_estoque(arr):\n",
        "  fechar = False\n",
        "  while(fechar == False):\n",
        "    print(\"O que deseja fazer? Digite o número: \")\n",
        "    print(\"1. Ver produtos em estoque\")\n",
        "    print(\"2. Alterar produto\")\n",
        "    print(\"3. Adicionar produto novo\")\n",
        "    print(\"4. Fechar o sistema\")\n",
        "    acao=input()\n",
        "\n",
        "    if(acao == \"1\"):\n",
        "      print(\"Produtos em estoque: \")\n",
        "      for i in range(len(arr)):\n",
        "        print(str(i) + \" - \" + arr[i])\n",
        "\n",
        "    elif(acao == \"2\"):\n",
        "      print(\"Qual é o índice do produto que deseja alterar? \")\n",
        "      indice = int(input())\n",
        "      print(\"Qual é o novo produto?\")\n",
        "      novo_produto = input()\n",
        "      arr[indice] = novo_produto\n",
        "      print(\"Produto \" + novo_produto + \" adicionado com sucesso\")\n",
        "\n",
        "    elif(acao == \"3\"):\n",
        "      print(\"Qual é o novo produto?\")\n",
        "      novo_produto = input()\n",
        "      arr.append(novo_produto)\n",
        "      print(\"Produto \" + novo_produto + \" adicionado com sucesso\")\n",
        "\n",
        "    elif(acao == \"4\"):\n",
        "      print(\"Fechando o sitema\")\n",
        "      fechar = True\n",
        "\n",
        "    else:\n",
        "      print(\"Por favor informe um código válido\")\n",
        "\n",
        "produtos = [\"açai\", \"pão\", \"manteiga\", \"arroz\",\"queijo\"]\n",
        "\n",
        "manipular_estoque(produtos)"
      ],
      "metadata": {
        "colab": {
          "base_uri": "https://localhost:8080/",
          "height": 384
        },
        "id": "fLDJ_lEf6oiG",
        "outputId": "9b118de7-204e-4210-f9f6-3517d86a41be"
      },
      "execution_count": 35,
      "outputs": [
        {
          "output_type": "stream",
          "name": "stdout",
          "text": [
            "O que deseja fazer? Digite o número: \n",
            "1. Ver produtos em estoque\n",
            "2. Alterar produto\n",
            "3. Adicionar produto novo\n",
            "4. Fechar o sistema\n"
          ]
        },
        {
          "output_type": "error",
          "ename": "TypeError",
          "evalue": "'str' object is not callable",
          "traceback": [
            "\u001b[0;31m---------------------------------------------------------------------------\u001b[0m",
            "\u001b[0;31mTypeError\u001b[0m                                 Traceback (most recent call last)",
            "\u001b[0;32m<ipython-input-35-5e2ff5d2c172>\u001b[0m in \u001b[0;36m<cell line: 39>\u001b[0;34m()\u001b[0m\n\u001b[1;32m     37\u001b[0m \u001b[0mprodutos\u001b[0m \u001b[0;34m=\u001b[0m \u001b[0;34m[\u001b[0m\u001b[0;34m\"açai\"\u001b[0m\u001b[0;34m,\u001b[0m \u001b[0;34m\"pão\"\u001b[0m\u001b[0;34m,\u001b[0m \u001b[0;34m\"manteiga\"\u001b[0m\u001b[0;34m,\u001b[0m \u001b[0;34m\"arroz\"\u001b[0m\u001b[0;34m,\u001b[0m\u001b[0;34m\"queijo\"\u001b[0m\u001b[0;34m]\u001b[0m\u001b[0;34m\u001b[0m\u001b[0;34m\u001b[0m\u001b[0m\n\u001b[1;32m     38\u001b[0m \u001b[0;34m\u001b[0m\u001b[0m\n\u001b[0;32m---> 39\u001b[0;31m \u001b[0mmanipular_estoque\u001b[0m\u001b[0;34m(\u001b[0m\u001b[0mprodutos\u001b[0m\u001b[0;34m)\u001b[0m\u001b[0;34m\u001b[0m\u001b[0;34m\u001b[0m\u001b[0m\n\u001b[0m",
            "\u001b[0;32m<ipython-input-35-5e2ff5d2c172>\u001b[0m in \u001b[0;36mmanipular_estoque\u001b[0;34m(arr)\u001b[0m\n\u001b[1;32m      7\u001b[0m     \u001b[0mprint\u001b[0m\u001b[0;34m(\u001b[0m\u001b[0;34m\"3. Adicionar produto novo\"\u001b[0m\u001b[0;34m)\u001b[0m\u001b[0;34m\u001b[0m\u001b[0;34m\u001b[0m\u001b[0m\n\u001b[1;32m      8\u001b[0m     \u001b[0mprint\u001b[0m\u001b[0;34m(\u001b[0m\u001b[0;34m\"4. Fechar o sistema\"\u001b[0m\u001b[0;34m)\u001b[0m\u001b[0;34m\u001b[0m\u001b[0;34m\u001b[0m\u001b[0m\n\u001b[0;32m----> 9\u001b[0;31m     \u001b[0macao\u001b[0m\u001b[0;34m=\u001b[0m\u001b[0minput\u001b[0m\u001b[0;34m(\u001b[0m\u001b[0;34m)\u001b[0m\u001b[0;34m\u001b[0m\u001b[0;34m\u001b[0m\u001b[0m\n\u001b[0m\u001b[1;32m     10\u001b[0m \u001b[0;34m\u001b[0m\u001b[0m\n\u001b[1;32m     11\u001b[0m     \u001b[0;32mif\u001b[0m\u001b[0;34m(\u001b[0m\u001b[0macao\u001b[0m \u001b[0;34m==\u001b[0m \u001b[0;34m\"1\"\u001b[0m\u001b[0;34m)\u001b[0m\u001b[0;34m:\u001b[0m\u001b[0;34m\u001b[0m\u001b[0;34m\u001b[0m\u001b[0m\n",
            "\u001b[0;31mTypeError\u001b[0m: 'str' object is not callable"
          ]
        }
      ]
    }
  ]
}