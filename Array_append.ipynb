{
  "nbformat": 4,
  "nbformat_minor": 0,
  "metadata": {
    "colab": {
      "provenance": [],
      "authorship_tag": "ABX9TyMK22ISXWvr5f1qb5H/Wr1I",
      "include_colab_link": true
    },
    "kernelspec": {
      "name": "python3",
      "display_name": "Python 3"
    },
    "language_info": {
      "name": "python"
    }
  },
  "cells": [
    {
      "cell_type": "markdown",
      "metadata": {
        "id": "view-in-github",
        "colab_type": "text"
      },
      "source": [
        "<a href=\"https://colab.research.google.com/github/katiasveloso/Proz_talento_cloud/blob/main/Array_append.ipynb\" target=\"_parent\"><img src=\"https://colab.research.google.com/assets/colab-badge.svg\" alt=\"Open In Colab\"/></a>"
      ]
    },
    {
      "cell_type": "code",
      "execution_count": null,
      "metadata": {
        "colab": {
          "base_uri": "https://localhost:8080/"
        },
        "id": "J5kT3I-L-1dL",
        "outputId": "36381fa3-c08f-4b52-ac44-b8c3031f31dd"
      },
      "outputs": [
        {
          "output_type": "stream",
          "name": "stdout",
          "text": [
            "O que deseja fazer? Digite o número: \n",
            "1. Ver produtos em estoque\n",
            "2. Alterar produto\n",
            "3. Adicionar produto novo\n",
            "4. Fechar o sistema\n",
            "1\n",
            "Produtos em estoque: \n",
            "0 - açai\n",
            "1 - pão\n",
            "2 - manteiga\n",
            "3 - arroz\n",
            "4 - queijo\n",
            "O que deseja fazer? Digite o número: \n",
            "1. Ver produtos em estoque\n",
            "2. Alterar produto\n",
            "3. Adicionar produto novo\n",
            "4. Fechar o sistema\n",
            "3\n",
            "Qual é o novo produto?\n",
            "café\n",
            "Produto café adicionado com sucesso\n",
            "O que deseja fazer? Digite o número: \n",
            "1. Ver produtos em estoque\n",
            "2. Alterar produto\n",
            "3. Adicionar produto novo\n",
            "4. Fechar o sistema\n",
            "1\n",
            "Produtos em estoque: \n",
            "0 - açai\n",
            "1 - pão\n",
            "2 - manteiga\n",
            "3 - arroz\n",
            "4 - queijo\n",
            "5 - café\n",
            "O que deseja fazer? Digite o número: \n",
            "1. Ver produtos em estoque\n",
            "2. Alterar produto\n",
            "3. Adicionar produto novo\n",
            "4. Fechar o sistema\n"
          ]
        }
      ],
      "source": [
        "def manipular_estoque(arr):\n",
        "  fechar = False\n",
        "  while(fechar == False):\n",
        "    print(\"O que deseja fazer? Digite o número: \")\n",
        "    print(\"1. Ver produtos em estoque\")\n",
        "    print(\"2. Alterar produto\")\n",
        "    print(\"3. Adicionar produto novo\")\n",
        "    print(\"4. Fechar o sistema\")\n",
        "    acao=input()\n",
        "\n",
        "    if(acao == \"1\"):\n",
        "      print(\"Produtos em estoque: \")\n",
        "      for i in range(len(arr)):\n",
        "        print(str(i) + \" - \" + arr[i])\n",
        "\n",
        "    elif(acao == \"2\"):\n",
        "      print(\"Qual é o índice do produto que deseja alterar? \")\n",
        "      indice = int(input())\n",
        "      print(\"Qual é o novo produto?\")\n",
        "      novo_produto = input()\n",
        "      arr[indice] = novo_produto\n",
        "      print(\"Produto \" + novo_produto + \" adicionado com sucesso\")\n",
        "\n",
        "    elif(acao == \"3\"):\n",
        "      print(\"Qual é o novo produto?\")\n",
        "      novo_produto = input()\n",
        "      arr.append(novo_produto)\n",
        "      print(\"Produto \" + novo_produto + \" adicionado com sucesso\")\n",
        "\n",
        "    elif(acao == \"4\"):\n",
        "      print(\"Fechando o sitema\")\n",
        "      fechar = True\n",
        "\n",
        "    else:\n",
        "      print(\"Por favor informe um código válido\")\n",
        "\n",
        "produtos = [\"açai\", \"pão\", \"manteiga\", \"arroz\",\"queijo\"]\n",
        "\n",
        "manipular_estoque(produtos)"
      ]
    }
  ]
}