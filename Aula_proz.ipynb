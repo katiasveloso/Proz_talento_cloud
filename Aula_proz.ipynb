{
  "nbformat": 4,
  "nbformat_minor": 0,
  "metadata": {
    "colab": {
      "provenance": [],
      "authorship_tag": "ABX9TyNX7I1CIOETvfU4L3H5K41m",
      "include_colab_link": true
    },
    "kernelspec": {
      "name": "python3",
      "display_name": "Python 3"
    },
    "language_info": {
      "name": "python"
    }
  },
  "cells": [
    {
      "cell_type": "markdown",
      "metadata": {
        "id": "view-in-github",
        "colab_type": "text"
      },
      "source": [
        "<a href=\"https://colab.research.google.com/github/katiasveloso/Proz_talento_cloud/blob/main/Aula_proz.ipynb\" target=\"_parent\"><img src=\"https://colab.research.google.com/assets/colab-badge.svg\" alt=\"Open In Colab\"/></a>"
      ]
    },
    {
      "cell_type": "code",
      "execution_count": null,
      "metadata": {
        "id": "fpVjoMvTIKbL"
      },
      "outputs": [],
      "source": []
    },
    {
      "cell_type": "code",
      "source": [
        "def mostrarNumero():\n",
        "  numero_valido = False\n",
        "  while(numero_valido == False):\n",
        "    try:\n",
        "      num = int(input())\n",
        "      if(num > 100):\n",
        "        print(\"O número precisa ser maior que 0 e menor ou igual a 100\")\n",
        "      elif(num < 0):\n",
        "        print(\"O número precisa ser positivo\")\n",
        "      else:\n",
        "        print(\"Boa! você escolheu o número: \" + str(num))\n",
        "        numero_valido = True\n",
        "    except:\n",
        "      print(\"Você precisa digitar um número\")\n",
        "mostrarNumero()\n",
        ""
      ],
      "metadata": {
        "id": "sIGzEhvXFgtU",
        "colab": {
          "base_uri": "https://localhost:8080/"
        },
        "collapsed": true,
        "outputId": "0b986747-7861-42ed-96cc-cb1115eddc0e"
      },
      "execution_count": null,
      "outputs": [
        {
          "output_type": "stream",
          "name": "stdout",
          "text": [
            "200\n",
            "O número precisa ser maior que 0 e menor ou igual a 100\n",
            "200\n",
            "O número precisa ser maior que 0 e menor ou igual a 100\n",
            "m\n",
            "Você precisa digitar um número\n",
            "-1\n",
            "O número precisa ser positivo\n"
          ]
        }
      ]
    }
  ]
}